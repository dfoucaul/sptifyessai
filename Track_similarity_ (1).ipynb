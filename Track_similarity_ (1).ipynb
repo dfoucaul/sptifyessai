{
 "cells": [
  {
   "cell_type": "code",
   "execution_count": 1,
   "metadata": {
    "colab": {
     "base_uri": "https://localhost:8080/"
    },
    "id": "CGKqyXUVbAeH",
    "outputId": "d1650cfb-f6ae-4373-bc3d-91bc0d2e0853"
   },
   "outputs": [
    {
     "name": "stdout",
     "output_type": "stream",
     "text": [
      "dict_keys(['info', 'playlists'])\n"
     ]
    }
   ],
   "source": [
    "import json\n",
    "import os\n",
    "\n",
    "# Path to the data folder\n",
    "data_folder = 'data'\n",
    "\n",
    "# Load the first JSON file\n",
    "file_path = os.path.join(data_folder, 'mpd.slice.0-999.json')\n",
    "\n",
    "with open(file_path, 'r') as f:\n",
    "    data = json.load(f)\n",
    "\n",
    "# Check the data keys\n",
    "print(data.keys())  # Should show \"playlists\"\n"
   ]
  },
  {
   "cell_type": "code",
   "execution_count": 2,
   "metadata": {
    "colab": {
     "base_uri": "https://localhost:8080/",
     "height": 789
    },
    "collapsed": true,
    "id": "ml3ZiRyBbGAz",
    "outputId": "4339feb8-abd7-43d1-a8cc-e23c52f93f5e"
   },
   "outputs": [
    {
     "data": {
      "text/html": [
       "<div>\n",
       "<style scoped>\n",
       "    .dataframe tbody tr th:only-of-type {\n",
       "        vertical-align: middle;\n",
       "    }\n",
       "\n",
       "    .dataframe tbody tr th {\n",
       "        vertical-align: top;\n",
       "    }\n",
       "\n",
       "    .dataframe thead th {\n",
       "        text-align: right;\n",
       "    }\n",
       "</style>\n",
       "<table border=\"1\" class=\"dataframe\">\n",
       "  <thead>\n",
       "    <tr style=\"text-align: right;\">\n",
       "      <th></th>\n",
       "      <th>playlist_id</th>\n",
       "      <th>playlist_name</th>\n",
       "      <th>num_tracks</th>\n",
       "      <th>track_name</th>\n",
       "      <th>artist_name</th>\n",
       "      <th>album_name</th>\n",
       "      <th>track_uri</th>\n",
       "    </tr>\n",
       "  </thead>\n",
       "  <tbody>\n",
       "    <tr>\n",
       "      <th>0</th>\n",
       "      <td>0</td>\n",
       "      <td>Throwbacks</td>\n",
       "      <td>52</td>\n",
       "      <td>Lose Control (feat. Ciara &amp; Fat Man Scoop)</td>\n",
       "      <td>Missy Elliott</td>\n",
       "      <td>The Cookbook</td>\n",
       "      <td>spotify:track:0UaMYEvWZi0ZqiDOoHU3YI</td>\n",
       "    </tr>\n",
       "    <tr>\n",
       "      <th>1</th>\n",
       "      <td>0</td>\n",
       "      <td>Throwbacks</td>\n",
       "      <td>52</td>\n",
       "      <td>Toxic</td>\n",
       "      <td>Britney Spears</td>\n",
       "      <td>In The Zone</td>\n",
       "      <td>spotify:track:6I9VzXrHxO9rA9A5euc8Ak</td>\n",
       "    </tr>\n",
       "    <tr>\n",
       "      <th>2</th>\n",
       "      <td>0</td>\n",
       "      <td>Throwbacks</td>\n",
       "      <td>52</td>\n",
       "      <td>Crazy In Love</td>\n",
       "      <td>Beyoncé</td>\n",
       "      <td>Dangerously In Love (Alben für die Ewigkeit)</td>\n",
       "      <td>spotify:track:0WqIKmW4BTrj3eJFmnCKMv</td>\n",
       "    </tr>\n",
       "    <tr>\n",
       "      <th>3</th>\n",
       "      <td>0</td>\n",
       "      <td>Throwbacks</td>\n",
       "      <td>52</td>\n",
       "      <td>Rock Your Body</td>\n",
       "      <td>Justin Timberlake</td>\n",
       "      <td>Justified</td>\n",
       "      <td>spotify:track:1AWQoqb9bSvzTjaLralEkT</td>\n",
       "    </tr>\n",
       "    <tr>\n",
       "      <th>4</th>\n",
       "      <td>0</td>\n",
       "      <td>Throwbacks</td>\n",
       "      <td>52</td>\n",
       "      <td>It Wasn't Me</td>\n",
       "      <td>Shaggy</td>\n",
       "      <td>Hot Shot</td>\n",
       "      <td>spotify:track:1lzr43nnXAijIGYnCT8M8H</td>\n",
       "    </tr>\n",
       "  </tbody>\n",
       "</table>\n",
       "</div>"
      ],
      "text/plain": [
       "   playlist_id playlist_name  num_tracks  \\\n",
       "0            0    Throwbacks          52   \n",
       "1            0    Throwbacks          52   \n",
       "2            0    Throwbacks          52   \n",
       "3            0    Throwbacks          52   \n",
       "4            0    Throwbacks          52   \n",
       "\n",
       "                                   track_name        artist_name  \\\n",
       "0  Lose Control (feat. Ciara & Fat Man Scoop)      Missy Elliott   \n",
       "1                                       Toxic     Britney Spears   \n",
       "2                               Crazy In Love            Beyoncé   \n",
       "3                              Rock Your Body  Justin Timberlake   \n",
       "4                                It Wasn't Me             Shaggy   \n",
       "\n",
       "                                     album_name  \\\n",
       "0                                  The Cookbook   \n",
       "1                                   In The Zone   \n",
       "2  Dangerously In Love (Alben für die Ewigkeit)   \n",
       "3                                     Justified   \n",
       "4                                      Hot Shot   \n",
       "\n",
       "                              track_uri  \n",
       "0  spotify:track:0UaMYEvWZi0ZqiDOoHU3YI  \n",
       "1  spotify:track:6I9VzXrHxO9rA9A5euc8Ak  \n",
       "2  spotify:track:0WqIKmW4BTrj3eJFmnCKMv  \n",
       "3  spotify:track:1AWQoqb9bSvzTjaLralEkT  \n",
       "4  spotify:track:1lzr43nnXAijIGYnCT8M8H  "
      ]
     },
     "execution_count": 2,
     "metadata": {},
     "output_type": "execute_result"
    }
   ],
   "source": [
    "import pandas as pd\n",
    "# Extract playlists\n",
    "playlists = data['playlists']\n",
    "\n",
    "# Convert to a DataFrame\n",
    "playlist_data = []\n",
    "for playlist in playlists:\n",
    "    for track in playlist['tracks']:\n",
    "        playlist_data.append({\n",
    "            'playlist_id': playlist['pid'],\n",
    "            'playlist_name': playlist['name'],\n",
    "            'num_tracks': playlist['num_tracks'],\n",
    "            'track_name': track['track_name'],\n",
    "            'artist_name': track['artist_name'],\n",
    "            'album_name': track['album_name'],\n",
    "            'track_uri': track['track_uri'],\n",
    "        })\n",
    "\n",
    "df = pd.DataFrame(playlist_data)\n",
    "df.head()\n"
   ]
  },
  {
   "cell_type": "code",
   "execution_count": 3,
   "metadata": {
    "colab": {
     "base_uri": "https://localhost:8080/"
    },
    "id": "ikyusYD6cAqn",
    "outputId": "a0f5d39f-2d92-4e55-9e54-e8173750501a"
   },
   "outputs": [
    {
     "name": "stdout",
     "output_type": "stream",
     "text": [
      "Number of JSON files found: 1000\n",
      "First 5 JSON files found:\n",
      "c:\\Users\\Asus\\OneDrive - Université Libre de Bruxelles\\Documents\\Cours\\MA3\\Info\\Projet1\\SpotifyMillionChlg\\data\\mpd.slice.0-999.json\n",
      "c:\\Users\\Asus\\OneDrive - Université Libre de Bruxelles\\Documents\\Cours\\MA3\\Info\\Projet1\\SpotifyMillionChlg\\data\\mpd.slice.1000-1999.json\n",
      "c:\\Users\\Asus\\OneDrive - Université Libre de Bruxelles\\Documents\\Cours\\MA3\\Info\\Projet1\\SpotifyMillionChlg\\data\\mpd.slice.10000-10999.json\n",
      "c:\\Users\\Asus\\OneDrive - Université Libre de Bruxelles\\Documents\\Cours\\MA3\\Info\\Projet1\\SpotifyMillionChlg\\data\\mpd.slice.100000-100999.json\n",
      "c:\\Users\\Asus\\OneDrive - Université Libre de Bruxelles\\Documents\\Cours\\MA3\\Info\\Projet1\\SpotifyMillionChlg\\data\\mpd.slice.101000-101999.json\n"
     ]
    }
   ],
   "source": [
    "import glob\n",
    "import os\n",
    "\n",
    "# Define the path to your data folder\n",
    "DATA_FOLDER = os.path.join(os.getcwd(), 'data')  # Adjust if 'data' is not in the current working directory\n",
    "\n",
    "# Find all JSON files in the data folder\n",
    "json_files = glob.glob(os.path.join(DATA_FOLDER, '*.json'))\n",
    "\n",
    "# Check the number of files found\n",
    "print(f\"Number of JSON files found: {len(json_files)}\")\n",
    "\n",
    "# Display the first 5 files as a preview\n",
    "if json_files:\n",
    "    print(\"First 5 JSON files found:\")\n",
    "    for file in json_files[:5]:\n",
    "        print(file)\n",
    "else:\n",
    "    print(\"No JSON files found in the specified data folder.\")\n"
   ]
  },
  {
   "cell_type": "markdown",
   "metadata": {
    "id": "jRjEQJt8d6pB"
   },
   "source": [
    "TRACK SIMILARITY"
   ]
  },
  {
   "cell_type": "code",
   "execution_count": 4,
   "metadata": {
    "colab": {
     "base_uri": "https://localhost:8080/"
    },
    "id": "ruDIWZKBd9sl",
    "outputId": "73e312b4-8568-48e8-a1fc-426d67206618"
   },
   "outputs": [
    {
     "name": "stdout",
     "output_type": "stream",
     "text": [
      "Requirement already satisfied: spotipy in c:\\users\\asus\\onedrive - université libre de bruxelles\\documents\\cours\\ma3\\info\\projet1\\spotifymillionchlg\\.venv\\lib\\site-packages (2.24.0)\n",
      "Requirement already satisfied: pandas in c:\\users\\asus\\onedrive - université libre de bruxelles\\documents\\cours\\ma3\\info\\projet1\\spotifymillionchlg\\.venv\\lib\\site-packages (2.2.3)\n",
      "Collecting scikit-learn\n",
      "  Downloading scikit_learn-1.6.0-cp39-cp39-win_amd64.whl.metadata (15 kB)\n",
      "Requirement already satisfied: redis>=3.5.3 in c:\\users\\asus\\onedrive - université libre de bruxelles\\documents\\cours\\ma3\\info\\projet1\\spotifymillionchlg\\.venv\\lib\\site-packages (from spotipy) (5.2.0)\n",
      "Requirement already satisfied: requests>=2.25.0 in c:\\users\\asus\\onedrive - université libre de bruxelles\\documents\\cours\\ma3\\info\\projet1\\spotifymillionchlg\\.venv\\lib\\site-packages (from spotipy) (2.32.3)\n",
      "Requirement already satisfied: urllib3>=1.26.0 in c:\\users\\asus\\onedrive - université libre de bruxelles\\documents\\cours\\ma3\\info\\projet1\\spotifymillionchlg\\.venv\\lib\\site-packages (from spotipy) (2.2.3)\n",
      "Requirement already satisfied: numpy>=1.22.4 in c:\\users\\asus\\onedrive - université libre de bruxelles\\documents\\cours\\ma3\\info\\projet1\\spotifymillionchlg\\.venv\\lib\\site-packages (from pandas) (1.26.4)\n",
      "Requirement already satisfied: python-dateutil>=2.8.2 in c:\\users\\asus\\onedrive - université libre de bruxelles\\documents\\cours\\ma3\\info\\projet1\\spotifymillionchlg\\.venv\\lib\\site-packages (from pandas) (2.9.0.post0)\n",
      "Requirement already satisfied: pytz>=2020.1 in c:\\users\\asus\\onedrive - université libre de bruxelles\\documents\\cours\\ma3\\info\\projet1\\spotifymillionchlg\\.venv\\lib\\site-packages (from pandas) (2024.2)\n",
      "Requirement already satisfied: tzdata>=2022.7 in c:\\users\\asus\\onedrive - université libre de bruxelles\\documents\\cours\\ma3\\info\\projet1\\spotifymillionchlg\\.venv\\lib\\site-packages (from pandas) (2024.2)\n",
      "Requirement already satisfied: scipy>=1.6.0 in c:\\users\\asus\\onedrive - université libre de bruxelles\\documents\\cours\\ma3\\info\\projet1\\spotifymillionchlg\\.venv\\lib\\site-packages (from scikit-learn) (1.13.1)\n",
      "Collecting joblib>=1.2.0 (from scikit-learn)\n",
      "  Using cached joblib-1.4.2-py3-none-any.whl.metadata (5.4 kB)\n",
      "Collecting threadpoolctl>=3.1.0 (from scikit-learn)\n",
      "  Using cached threadpoolctl-3.5.0-py3-none-any.whl.metadata (13 kB)\n",
      "Requirement already satisfied: six>=1.5 in c:\\users\\asus\\onedrive - université libre de bruxelles\\documents\\cours\\ma3\\info\\projet1\\spotifymillionchlg\\.venv\\lib\\site-packages (from python-dateutil>=2.8.2->pandas) (1.16.0)\n",
      "Requirement already satisfied: async-timeout>=4.0.3 in c:\\users\\asus\\onedrive - université libre de bruxelles\\documents\\cours\\ma3\\info\\projet1\\spotifymillionchlg\\.venv\\lib\\site-packages (from redis>=3.5.3->spotipy) (5.0.1)\n",
      "Requirement already satisfied: charset-normalizer<4,>=2 in c:\\users\\asus\\onedrive - université libre de bruxelles\\documents\\cours\\ma3\\info\\projet1\\spotifymillionchlg\\.venv\\lib\\site-packages (from requests>=2.25.0->spotipy) (3.4.0)\n",
      "Requirement already satisfied: idna<4,>=2.5 in c:\\users\\asus\\onedrive - université libre de bruxelles\\documents\\cours\\ma3\\info\\projet1\\spotifymillionchlg\\.venv\\lib\\site-packages (from requests>=2.25.0->spotipy) (3.10)\n",
      "Requirement already satisfied: certifi>=2017.4.17 in c:\\users\\asus\\onedrive - université libre de bruxelles\\documents\\cours\\ma3\\info\\projet1\\spotifymillionchlg\\.venv\\lib\\site-packages (from requests>=2.25.0->spotipy) (2024.8.30)\n",
      "Downloading scikit_learn-1.6.0-cp39-cp39-win_amd64.whl (11.1 MB)\n",
      "   ---------------------------------------- 0.0/11.1 MB ? eta -:--:--\n",
      "   ----- ---------------------------------- 1.6/11.1 MB 8.4 MB/s eta 0:00:02\n",
      "   ------------- -------------------------- 3.7/11.1 MB 9.5 MB/s eta 0:00:01\n",
      "   -------------------- ------------------- 5.8/11.1 MB 9.3 MB/s eta 0:00:01\n",
      "   --------------------------- ------------ 7.6/11.1 MB 9.2 MB/s eta 0:00:01\n",
      "   ---------------------------------- ----- 9.7/11.1 MB 9.3 MB/s eta 0:00:01\n",
      "   ---------------------------------------- 11.1/11.1 MB 9.2 MB/s eta 0:00:00\n",
      "Using cached joblib-1.4.2-py3-none-any.whl (301 kB)\n",
      "Using cached threadpoolctl-3.5.0-py3-none-any.whl (18 kB)\n",
      "Installing collected packages: threadpoolctl, joblib, scikit-learn\n",
      "Successfully installed joblib-1.4.2 scikit-learn-1.6.0 threadpoolctl-3.5.0\n",
      "Note: you may need to restart the kernel to use updated packages.\n"
     ]
    }
   ],
   "source": [
    "pip install spotipy pandas scikit-learn"
   ]
  },
  {
   "cell_type": "code",
   "execution_count": 5,
   "metadata": {
    "id": "oW3gZyuAeCit"
   },
   "outputs": [],
   "source": [
    "import json\n",
    "import pandas as pd\n",
    "import numpy as np\n",
    "from sklearn.metrics.pairwise import cosine_similarity\n",
    "from sklearn.preprocessing import MinMaxScaler\n",
    "import spotipy\n",
    "from spotipy.oauth2 import SpotifyClientCredentials\n"
   ]
  },
  {
   "cell_type": "code",
   "execution_count": 7,
   "metadata": {
    "id": "2Em_DjLheHOQ"
   },
   "outputs": [],
   "source": [
    "client_id = \"88d03770ce754e56974355b88082df64\"\n",
    "client_secret = \"66292f7e731b49828c9162e126610fcf\"\n",
    "\n",
    "# Initialize Spotify API client\n",
    "sp = spotipy.Spotify(auth_manager=SpotifyClientCredentials(client_id=client_id, client_secret=client_secret))\n"
   ]
  },
  {
   "cell_type": "code",
   "execution_count": 8,
   "metadata": {
    "colab": {
     "base_uri": "https://localhost:8080/"
    },
    "id": "dF1YeShGeT_X",
    "outputId": "3c6d7255-fe8f-4151-9380-ce8c2c5ae12a"
   },
   "outputs": [
    {
     "name": "stdout",
     "output_type": "stream",
     "text": [
      "Number of JSON files found: 1000\n",
      "First 5 JSON files found:\n",
      "c:\\Users\\Asus\\OneDrive - Université Libre de Bruxelles\\Documents\\Cours\\MA3\\Info\\Projet1\\SpotifyMillionChlg\\data\\mpd.slice.0-999.json\n",
      "c:\\Users\\Asus\\OneDrive - Université Libre de Bruxelles\\Documents\\Cours\\MA3\\Info\\Projet1\\SpotifyMillionChlg\\data\\mpd.slice.1000-1999.json\n",
      "c:\\Users\\Asus\\OneDrive - Université Libre de Bruxelles\\Documents\\Cours\\MA3\\Info\\Projet1\\SpotifyMillionChlg\\data\\mpd.slice.10000-10999.json\n",
      "c:\\Users\\Asus\\OneDrive - Université Libre de Bruxelles\\Documents\\Cours\\MA3\\Info\\Projet1\\SpotifyMillionChlg\\data\\mpd.slice.100000-100999.json\n",
      "c:\\Users\\Asus\\OneDrive - Université Libre de Bruxelles\\Documents\\Cours\\MA3\\Info\\Projet1\\SpotifyMillionChlg\\data\\mpd.slice.101000-101999.json\n"
     ]
    }
   ],
   "source": [
    "import glob\n",
    "import os\n",
    "\n",
    "# Define the path to your data folder\n",
    "DATA_FOLDER = os.path.join(os.getcwd(), 'data')  # Adjust if 'data' is not in the current working directory\n",
    "\n",
    "# Find all JSON files in the data folder\n",
    "json_files = glob.glob(os.path.join(DATA_FOLDER, '*.json'))\n",
    "\n",
    "# Check the number of files found\n",
    "print(f\"Number of JSON files found: {len(json_files)}\")\n",
    "\n",
    "# Display the first 5 files as a preview\n",
    "if json_files:\n",
    "    print(\"First 5 JSON files found:\")\n",
    "    for file in json_files[:5]:\n",
    "        print(file)\n",
    "else:\n",
    "    print(\"No JSON files found in the specified data folder.\")\n"
   ]
  },
  {
   "cell_type": "code",
   "execution_count": 9,
   "metadata": {
    "id": "sWnaG95PeYw3"
   },
   "outputs": [],
   "source": [
    "# Load one JSON file for exploration\n",
    "sample_file = json_files[0]\n",
    "with open(sample_file, 'r') as f:\n",
    "    data = json.load(f)"
   ]
  },
  {
   "cell_type": "code",
   "execution_count": 10,
   "metadata": {
    "colab": {
     "base_uri": "https://localhost:8080/"
    },
    "id": "wcTBWFWxeboL",
    "outputId": "7f010c24-c8c9-430b-aa8f-8cb0e14c29ad"
   },
   "outputs": [
    {
     "name": "stdout",
     "output_type": "stream",
     "text": [
      "Example Playlist: {'name': 'Throwbacks', 'collaborative': 'false', 'pid': 0, 'modified_at': 1493424000, 'num_tracks': 52, 'num_albums': 47, 'num_followers': 1, 'tracks': [{'pos': 0, 'artist_name': 'Missy Elliott', 'track_uri': 'spotify:track:0UaMYEvWZi0ZqiDOoHU3YI', 'artist_uri': 'spotify:artist:2wIVse2owClT7go1WT98tk', 'track_name': 'Lose Control (feat. Ciara & Fat Man Scoop)', 'album_uri': 'spotify:album:6vV5UrXcfyQD1wu4Qo2I9K', 'duration_ms': 226863, 'album_name': 'The Cookbook'}, {'pos': 1, 'artist_name': 'Britney Spears', 'track_uri': 'spotify:track:6I9VzXrHxO9rA9A5euc8Ak', 'artist_uri': 'spotify:artist:26dSoYclwsYLMAKD3tpOr4', 'track_name': 'Toxic', 'album_uri': 'spotify:album:0z7pVBGOD7HCIB7S8eLkLI', 'duration_ms': 198800, 'album_name': 'In The Zone'}, {'pos': 2, 'artist_name': 'Beyoncé', 'track_uri': 'spotify:track:0WqIKmW4BTrj3eJFmnCKMv', 'artist_uri': 'spotify:artist:6vWDO969PvNqNYHIOW5v0m', 'track_name': 'Crazy In Love', 'album_uri': 'spotify:album:25hVFAxTlDvXbx2X2QkUkE', 'duration_ms': 235933, 'album_name': 'Dangerously In Love (Alben für die Ewigkeit)'}, {'pos': 3, 'artist_name': 'Justin Timberlake', 'track_uri': 'spotify:track:1AWQoqb9bSvzTjaLralEkT', 'artist_uri': 'spotify:artist:31TPClRtHm23RisEBtV3X7', 'track_name': 'Rock Your Body', 'album_uri': 'spotify:album:6QPkyl04rXwTGlGlcYaRoW', 'duration_ms': 267266, 'album_name': 'Justified'}, {'pos': 4, 'artist_name': 'Shaggy', 'track_uri': 'spotify:track:1lzr43nnXAijIGYnCT8M8H', 'artist_uri': 'spotify:artist:5EvFsr3kj42KNv97ZEnqij', 'track_name': \"It Wasn't Me\", 'album_uri': 'spotify:album:6NmFmPX56pcLBOFMhIiKvF', 'duration_ms': 227600, 'album_name': 'Hot Shot'}, {'pos': 5, 'artist_name': 'Usher', 'track_uri': 'spotify:track:0XUfyU2QviPAs6bxSpXYG4', 'artist_uri': 'spotify:artist:23zg3TcAtWQy7J6upgbUnj', 'track_name': 'Yeah!', 'album_uri': 'spotify:album:0vO0b1AvY49CPQyVisJLj0', 'duration_ms': 250373, 'album_name': 'Confessions'}, {'pos': 6, 'artist_name': 'Usher', 'track_uri': 'spotify:track:68vgtRHr7iZHpzGpon6Jlo', 'artist_uri': 'spotify:artist:23zg3TcAtWQy7J6upgbUnj', 'track_name': 'My Boo', 'album_uri': 'spotify:album:1RM6MGv6bcl6NrAG8PGoZk', 'duration_ms': 223440, 'album_name': 'Confessions'}, {'pos': 7, 'artist_name': 'The Pussycat Dolls', 'track_uri': 'spotify:track:3BxWKCI06eQ5Od8TY2JBeA', 'artist_uri': 'spotify:artist:6wPhSqRtPu1UhRCDX5yaDJ', 'track_name': 'Buttons', 'album_uri': 'spotify:album:5x8e8UcCeOgrOzSnDGuPye', 'duration_ms': 225560, 'album_name': 'PCD'}, {'pos': 8, 'artist_name': \"Destiny's Child\", 'track_uri': 'spotify:track:7H6ev70Weq6DdpZyyTmUXk', 'artist_uri': 'spotify:artist:1Y8cdNmUJH7yBTd9yOvr5i', 'track_name': 'Say My Name', 'album_uri': 'spotify:album:283NWqNsCA9GwVHrJk59CG', 'duration_ms': 271333, 'album_name': \"The Writing's On The Wall\"}, {'pos': 9, 'artist_name': 'OutKast', 'track_uri': 'spotify:track:2PpruBYCo4H7WOBJ7Q2EwM', 'artist_uri': 'spotify:artist:1G9G7WwrXka3Z1r7aIDjI7', 'track_name': 'Hey Ya! - Radio Mix / Club Mix', 'album_uri': 'spotify:album:1UsmQ3bpJTyK6ygoOOjG1r', 'duration_ms': 235213, 'album_name': 'Speakerboxxx/The Love Below'}, {'pos': 10, 'artist_name': 'Nelly Furtado', 'track_uri': 'spotify:track:2gam98EZKrF9XuOkU13ApN', 'artist_uri': 'spotify:artist:2jw70GZXlAI8QzWeY2bgRc', 'track_name': 'Promiscuous', 'album_uri': 'spotify:album:2yboV2QBcVGEhcRlYuPpDT', 'duration_ms': 242293, 'album_name': 'Loose'}, {'pos': 11, 'artist_name': 'Jesse McCartney', 'track_uri': 'spotify:track:4Y45aqo9QMa57rDsAJv40A', 'artist_uri': 'spotify:artist:2Hjj68yyUPiC0HKEOigcEp', 'track_name': 'Right Where You Want Me - Radio Edit Version', 'album_uri': 'spotify:album:6022khQj4Fsvvse8f3A4lF', 'duration_ms': 211693, 'album_name': 'Right Where You Want Me'}, {'pos': 12, 'artist_name': 'Jesse McCartney', 'track_uri': 'spotify:track:1HwpWwa6bnqqRhK8agG4RS', 'artist_uri': 'spotify:artist:2Hjj68yyUPiC0HKEOigcEp', 'track_name': 'Beautiful Soul', 'album_uri': 'spotify:album:2gidE8vgVOkYufANjuvj3S', 'duration_ms': 214226, 'album_name': 'Beautiful Soul'}, {'pos': 13, 'artist_name': 'Jesse McCartney', 'track_uri': 'spotify:track:20ORwCJusz4KS2PbTPVNKo', 'artist_uri': 'spotify:artist:2Hjj68yyUPiC0HKEOigcEp', 'track_name': \"Leavin'\", 'album_uri': 'spotify:album:2tDCfKFy2YW9N0IwNSRdOJ', 'duration_ms': 216880, 'album_name': 'Departure - Recharged'}, {'pos': 14, 'artist_name': 'Cassie', 'track_uri': 'spotify:track:7k6IzwMGpxnRghE7YosnXT', 'artist_uri': 'spotify:artist:27FGXRNruFoOdf1vP8dqcH', 'track_name': 'Me & U', 'album_uri': 'spotify:album:0j1qzjaJmsF1FkcICf3hRu', 'duration_ms': 192213, 'album_name': 'Cassie'}, {'pos': 15, 'artist_name': 'Omarion', 'track_uri': 'spotify:track:1Bv0Yl01xBDZD4OQP93fyl', 'artist_uri': 'spotify:artist:0f5nVCcR06GX8Qikz0COtT', 'track_name': 'Ice Box', 'album_uri': 'spotify:album:4cVVEOXyUaWo7vlDWIkKsI', 'duration_ms': 256426, 'album_name': '21'}, {'pos': 16, 'artist_name': 'Avril Lavigne', 'track_uri': 'spotify:track:4omisSlTk6Dsq2iQD7MA07', 'artist_uri': 'spotify:artist:0p4nmQO2msCgU4IF37Wi3j', 'track_name': 'Sk8er Boi', 'album_uri': 'spotify:album:7h6XeTzy0SRXDrFJeA9gO7', 'duration_ms': 204000, 'album_name': 'Let Go'}, {'pos': 17, 'artist_name': 'Chris Brown', 'track_uri': 'spotify:track:7xYnUQigPoIDAMPVK79NEq', 'artist_uri': 'spotify:artist:7bXgB6jMjp9ATFy66eO08Z', 'track_name': 'Run It!', 'album_uri': 'spotify:album:49gaz5rhWWgqCw61M9700v', 'duration_ms': 229866, 'album_name': 'Chris Brown'}, {'pos': 18, 'artist_name': 'Beyoncé', 'track_uri': 'spotify:track:6d8A5sAx9TfdeseDvfWNHd', 'artist_uri': 'spotify:artist:6vWDO969PvNqNYHIOW5v0m', 'track_name': 'Check On It - feat. Bun B and Slim Thug', 'album_uri': 'spotify:album:3MJHoQUI828kmB6IpjejbW', 'duration_ms': 210453, 'album_name': \"B'Day\"}, {'pos': 19, 'artist_name': \"Destiny's Child\", 'track_uri': 'spotify:track:4pmc2AxSEq6g7hPVlJCPyP', 'artist_uri': 'spotify:artist:1Y8cdNmUJH7yBTd9yOvr5i', 'track_name': \"Jumpin', Jumpin'\", 'album_uri': 'spotify:album:283NWqNsCA9GwVHrJk59CG', 'duration_ms': 230200, 'album_name': \"The Writing's On The Wall\"}, {'pos': 20, 'artist_name': 'Sheryl Crow', 'track_uri': 'spotify:track:215JYyyUnrJ98NK3KEwu6d', 'artist_uri': 'spotify:artist:4TKTii6gnOnUXQHyuo9JaD', 'track_name': 'Soak Up The Sun', 'album_uri': 'spotify:album:5NYcTXrRZHxNyRKVOd0vs1', 'duration_ms': 292306, 'album_name': \"C'Mon C'Mon\"}, {'pos': 21, 'artist_name': 'The Black Eyed Peas', 'track_uri': 'spotify:track:0uqPG793dkDDN7sCUJJIVC', 'artist_uri': 'spotify:artist:1yxSLGMDHlW21z4YXirZDS', 'track_name': 'Where Is The Love?', 'album_uri': 'spotify:album:1bNyYpkDRovmErm4QeDrpJ', 'duration_ms': 272533, 'album_name': 'Elephunk'}, {'pos': 22, 'artist_name': 'Bowling For Soup', 'track_uri': 'spotify:track:19Js5ypV6JKn4DMExHQbGc', 'artist_uri': 'spotify:artist:5ND0mGcL9SKSjWIjPd0xIb', 'track_name': \"Stacy's Mom\", 'album_uri': 'spotify:album:3Q7xpHmP8k3HryE0LQdIk0', 'duration_ms': 193042, 'album_name': \"I've Never Done Anything Like This\"}, {'pos': 23, 'artist_name': 'The Click Five', 'track_uri': 'spotify:track:1JURww012QnWAw0zZXi6Aa', 'artist_uri': 'spotify:artist:01lz5VBfkMFDteSA9pKJuP', 'track_name': 'Just The Girl', 'album_uri': 'spotify:album:7gZilZGYr8M7UwEeYvdAKZ', 'duration_ms': 234146, 'album_name': 'Greetings From Imrie House'}, {'pos': 24, 'artist_name': 'Chris Brown', 'track_uri': 'spotify:track:7DFnq8FYhHMCylykf6ZCxA', 'artist_uri': 'spotify:artist:7bXgB6jMjp9ATFy66eO08Z', 'track_name': 'Yo (Excuse Me Miss)', 'album_uri': 'spotify:album:49gaz5rhWWgqCw61M9700v', 'duration_ms': 229040, 'album_name': 'Chris Brown'}, {'pos': 25, 'artist_name': 'Jonas Brothers', 'track_uri': 'spotify:track:1TfAhjzRBWzYZ8IdUV3igl', 'artist_uri': 'spotify:artist:7gOdHgIoIKoe4i9Tta6qdD', 'track_name': 'Year 3000', 'album_uri': 'spotify:album:20RAjvZ9LX2FDuDU8RDuIl', 'duration_ms': 201960, 'album_name': 'Jonas Brothers'}, {'pos': 26, 'artist_name': 'Lil Mama', 'track_uri': 'spotify:track:1Y4ZdPOOgCUhBcKZOrUFiS', 'artist_uri': 'spotify:artist:5qK5bOC6wLtuLhG5KvU17c', 'track_name': 'Lip Gloss', 'album_uri': 'spotify:album:3vgVsm9GY3i39fZ7b1sqV5', 'duration_ms': 219773, 'album_name': 'Lip Gloss'}, {'pos': 27, 'artist_name': 'Cascada', 'track_uri': 'spotify:track:6MjljecHzHelUDismyKkba', 'artist_uri': 'spotify:artist:0N0d3kjwdY2h7UVuTdJGfp', 'track_name': 'Everytime We Touch - Radio Edit', 'album_uri': 'spotify:album:5DvuKZTzEKjm0oUuhP237C', 'duration_ms': 199120, 'album_name': 'Everytime We Touch'}, {'pos': 28, 'artist_name': 'Jason Derulo', 'track_uri': 'spotify:track:67T6l4q3zVjC5nZZPXByU8', 'artist_uri': 'spotify:artist:07YZf4WDAMNwqr4jfgOZ8y', 'track_name': 'Whatcha Say', 'album_uri': 'spotify:album:0aVJmVAeEx78nAA1rAKYf7', 'duration_ms': 221253, 'album_name': 'Jason Derulo'}, {'pos': 29, 'artist_name': 'Ne-Yo', 'track_uri': 'spotify:track:34ceTg8ChN5HjrqiIYCn9Q', 'artist_uri': 'spotify:artist:21E3waRsmPlU7jZsS13rcj', 'track_name': 'Miss Independent', 'album_uri': 'spotify:album:6dTn9vJSxVTIGm4Cu5dH4x', 'duration_ms': 232000, 'album_name': 'Year Of The Gentleman'}, {'pos': 30, 'artist_name': 'Miley Cyrus', 'track_uri': 'spotify:track:5Q0Nhxo0l2bP3pNjpGJwV1', 'artist_uri': 'spotify:artist:5YGY8feqx7naU7z4HrwZM6', 'track_name': 'Party In The U.S.A.', 'album_uri': 'spotify:album:64aKkqxc3Ur2LYIKeS5osS', 'duration_ms': 202066, 'album_name': 'The Time Of Our Lives'}, {'pos': 31, 'artist_name': 'Boys Like Girls', 'track_uri': 'spotify:track:6GIrIt2M39wEGwjCQjGChX', 'artist_uri': 'spotify:artist:0vWCyXMrrvMlCcepuOJaGI', 'track_name': 'The Great Escape', 'album_uri': 'spotify:album:4WqgusSAgXkrjbXzqdBY68', 'duration_ms': 206520, 'album_name': 'Boys Like Girls'}, {'pos': 32, 'artist_name': 'Iyaz', 'track_uri': 'spotify:track:4E5P1XyAFtrjpiIxkydly4', 'artist_uri': 'spotify:artist:5tKXB9uuebKE34yowVaU3C', 'track_name': 'Replay', 'album_uri': 'spotify:album:44hyrGuZKAvITbmrlhryf8', 'duration_ms': 182306, 'album_name': 'Replay'}, {'pos': 33, 'artist_name': 'Chris Brown', 'track_uri': 'spotify:track:3H1LCvO3fVsK2HPguhbml0', 'artist_uri': 'spotify:artist:7bXgB6jMjp9ATFy66eO08Z', 'track_name': 'Forever', 'album_uri': 'spotify:album:1UtE4zAlSE2TlKmTFgrTg5', 'duration_ms': 277106, 'album_name': 'Exclusive - The Forever Edition'}, {'pos': 34, 'artist_name': 'Kesha', 'track_uri': 'spotify:track:3uoQULcUWfnt6nc6J7Vgai', 'artist_uri': 'spotify:artist:6LqNN22kT3074XbTVUrhzX', 'track_name': 'Your Love Is My Drug', 'album_uri': 'spotify:album:5peRwC6pQh8eaoIPtvmmOB', 'duration_ms': 187133, 'album_name': 'Animal'}, {'pos': 35, 'artist_name': 'Ne-Yo', 'track_uri': 'spotify:track:2nbClS09zsIAqNkshg6jnp', 'artist_uri': 'spotify:artist:21E3waRsmPlU7jZsS13rcj', 'track_name': 'Closer', 'album_uri': 'spotify:album:1nv3KEXZPmcwOXMoLTs1vn', 'duration_ms': 234360, 'album_name': 'Year Of The Gentleman'}, {'pos': 36, 'artist_name': 'Justin Bieber', 'track_uri': 'spotify:track:69ghzc538EQSVon2Gm3wrr', 'artist_uri': 'spotify:artist:1uNFoZAHBGtllmzznpCI3s', 'track_name': 'One Less Lonely Girl', 'album_uri': 'spotify:album:1rG5TDs3jYh6OU753I54CI', 'duration_ms': 229106, 'album_name': 'My World'}, {'pos': 37, 'artist_name': 'M.I.A.', 'track_uri': 'spotify:track:1kusepF3AacIEtUTYrw4GV', 'artist_uri': 'spotify:artist:0QJIPDAEDILuo8AIq3pMuU', 'track_name': 'Paper Planes', 'album_uri': 'spotify:album:1Lymt1abGCr3J06bbnmWca', 'duration_ms': 203760, 'album_name': 'Kala'}, {'pos': 38, 'artist_name': 'The Killers', 'track_uri': 'spotify:track:7oK9VyNzrYvRFo7nQEYkWN', 'artist_uri': 'spotify:artist:0C0XlULifJtAgn6ZNCW2eu', 'track_name': 'Mr. Brightside', 'album_uri': 'spotify:album:4undIeGmofnAYKhnDclN1w', 'duration_ms': 222586, 'album_name': 'Hot Fuss'}, {'pos': 39, 'artist_name': 'blink-182', 'track_uri': 'spotify:track:12qZHAeOyTf93YAWvGDTat', 'artist_uri': 'spotify:artist:6FBDaR13swtiWwGhX1WQsP', 'track_name': 'All The Small Things', 'album_uri': 'spotify:album:1fF8kYX49s5Ufv4XEY5sjW', 'duration_ms': 168000, 'album_name': 'Enema Of The State'}, {'pos': 40, 'artist_name': 'The Pussycat Dolls', 'track_uri': 'spotify:track:2jFlMILIQzs7lSFudG9lbo', 'artist_uri': 'spotify:artist:6wPhSqRtPu1UhRCDX5yaDJ', 'track_name': 'Beep', 'album_uri': 'spotify:album:0ylxpXE00fVxh6d60tevT8', 'duration_ms': 229360, 'album_name': 'PCD'}, {'pos': 41, 'artist_name': 'Justin Bieber', 'track_uri': 'spotify:track:4I2GqMe7L2ccMpUbnDzYLH', 'artist_uri': 'spotify:artist:1uNFoZAHBGtllmzznpCI3s', 'track_name': 'Somebody To Love', 'album_uri': 'spotify:album:6gdLfnf2vdNlMTyhJHaDLs', 'duration_ms': 220920, 'album_name': 'My Worlds'}, {'pos': 42, 'artist_name': 'The All-American Rejects', 'track_uri': 'spotify:track:5lDriBxJd22IhOH9zTcFrV', 'artist_uri': 'spotify:artist:3vAaWhdBR38Q02ohXqaNHT', 'track_name': 'Dirty Little Secret', 'album_uri': 'spotify:album:3PWEGZ6CYvXRnr0JCECsDe', 'duration_ms': 193653, 'album_name': 'Move Along'}, {'pos': 43, 'artist_name': 'Justin Bieber', 'track_uri': 'spotify:track:2eJ8ij1T3cNUKiGdcUvKhy', 'artist_uri': 'spotify:artist:1uNFoZAHBGtllmzznpCI3s', 'track_name': 'Baby', 'album_uri': 'spotify:album:6gdLfnf2vdNlMTyhJHaDLs', 'duration_ms': 213973, 'album_name': 'My Worlds'}, {'pos': 44, 'artist_name': 'Vanessa Carlton', 'track_uri': 'spotify:track:5y69gQtK33qxb8a24ACkCy', 'artist_uri': 'spotify:artist:5ILrArfIV0tMURcHJN8Q07', 'track_name': 'A Thousand Miles', 'album_uri': 'spotify:album:7D6BFTArx2ajtkKRVXIKO2', 'duration_ms': 237493, 'album_name': 'Be Not Nobody'}, {'pos': 45, 'artist_name': 'Cris Cab', 'track_uri': 'spotify:track:1X5WGCrUMuwRFuYU1eAo2I', 'artist_uri': 'spotify:artist:7vWBZm3sQ8yQvfV4nXxHXK', 'track_name': 'Livin on Sunday', 'album_uri': 'spotify:album:2kNznk4KDkYXifzOAUDoXN', 'duration_ms': 201230, 'album_name': 'Red Road'}, {'pos': 46, 'artist_name': 'Miley Cyrus', 'track_uri': 'spotify:track:3utIAb67sOu0QHxBE88P1M', 'artist_uri': 'spotify:artist:5YGY8feqx7naU7z4HrwZM6', 'track_name': 'See You Again', 'album_uri': 'spotify:album:6SkirMQoL4QhnXOM5MH5El', 'duration_ms': 190453, 'album_name': 'See You Again'}, {'pos': 47, 'artist_name': 'Jesse McCartney', 'track_uri': 'spotify:track:3jkdQNkDTxxXtjSO4l0o1H', 'artist_uri': 'spotify:artist:2Hjj68yyUPiC0HKEOigcEp', 'track_name': 'How Do You Sleep? - Featuring Ludacris', 'album_uri': 'spotify:album:2tDCfKFy2YW9N0IwNSRdOJ', 'duration_ms': 208333, 'album_name': 'Departure - Recharged'}, {'pos': 48, 'artist_name': 'Demi Lovato', 'track_uri': 'spotify:track:5c1sfI6wIQEsSUw0xrkFdl', 'artist_uri': 'spotify:artist:6S2OmqARrzebs0tKUEyXyp', 'track_name': 'This Is Me', 'album_uri': 'spotify:album:6vykWEBzBfEKYJxEFR1AQl', 'duration_ms': 189186, 'album_name': 'Camp Rock Original Soundtrack'}, {'pos': 49, 'artist_name': 'Avril Lavigne', 'track_uri': 'spotify:track:6sqNctd7MlJoKDOxPVCAvU', 'artist_uri': 'spotify:artist:0p4nmQO2msCgU4IF37Wi3j', 'track_name': 'My Happy Ending', 'album_uri': 'spotify:album:7851Vsjv3apS52sXUik6iF', 'duration_ms': 242413, 'album_name': 'Under My Skin'}, {'pos': 50, 'artist_name': 'We The Kings', 'track_uri': 'spotify:track:1b7vg5T9YKR3NNqXfBYRF7', 'artist_uri': 'spotify:artist:3ao3jf5d70Tf4fPh2bnXVl', 'track_name': 'Check Yes Juliet', 'album_uri': 'spotify:album:2F1hfUOuMnOxtSfrktL8VX', 'duration_ms': 220133, 'album_name': 'We The Kings'}, {'pos': 51, 'artist_name': 'Boys Like Girls', 'track_uri': 'spotify:track:6GIrIt2M39wEGwjCQjGChX', 'artist_uri': 'spotify:artist:0vWCyXMrrvMlCcepuOJaGI', 'track_name': 'The Great Escape', 'album_uri': 'spotify:album:4WqgusSAgXkrjbXzqdBY68', 'duration_ms': 206520, 'album_name': 'Boys Like Girls'}], 'num_edits': 6, 'duration_ms': 11532414, 'num_artists': 37}\n"
     ]
    }
   ],
   "source": [
    "playlists = data['playlists']\n",
    "print(\"Example Playlist:\", playlists[0])\n"
   ]
  },
  {
   "cell_type": "code",
   "execution_count": 11,
   "metadata": {
    "colab": {
     "base_uri": "https://localhost:8080/"
    },
    "id": "_Ib03SG3eeCo",
    "outputId": "8a66a633-f7cf-4f36-e773-fcd6074263c4"
   },
   "outputs": [
    {
     "name": "stdout",
     "output_type": "stream",
     "text": [
      "Collected 1000 unique tracks.\n"
     ]
    }
   ],
   "source": [
    "# Collect track URIs for analysis\n",
    "track_uris = []\n",
    "for playlist in playlists:\n",
    "    for track in playlist['tracks']:\n",
    "        track_uris.append(track['track_uri'])\n",
    "\n",
    "# Take a sample of 1000 unique tracks for API calls\n",
    "track_uris = list(set(track_uris))[:1000]\n",
    "print(f\"Collected {len(track_uris)} unique tracks.\")\n"
   ]
  },
  {
   "cell_type": "code",
   "execution_count": 12,
   "metadata": {},
   "outputs": [
    {
     "name": "stdout",
     "output_type": "stream",
     "text": [
      "Example Playlist: {'name': 'Throwbacks', 'collaborative': 'false', 'pid': 0, 'modified_at': 1493424000, 'num_tracks': 52, 'num_albums': 47, 'num_followers': 1, 'tracks': [{'pos': 0, 'artist_name': 'Missy Elliott', 'track_uri': 'spotify:track:0UaMYEvWZi0ZqiDOoHU3YI', 'artist_uri': 'spotify:artist:2wIVse2owClT7go1WT98tk', 'track_name': 'Lose Control (feat. Ciara & Fat Man Scoop)', 'album_uri': 'spotify:album:6vV5UrXcfyQD1wu4Qo2I9K', 'duration_ms': 226863, 'album_name': 'The Cookbook'}, {'pos': 1, 'artist_name': 'Britney Spears', 'track_uri': 'spotify:track:6I9VzXrHxO9rA9A5euc8Ak', 'artist_uri': 'spotify:artist:26dSoYclwsYLMAKD3tpOr4', 'track_name': 'Toxic', 'album_uri': 'spotify:album:0z7pVBGOD7HCIB7S8eLkLI', 'duration_ms': 198800, 'album_name': 'In The Zone'}, {'pos': 2, 'artist_name': 'Beyoncé', 'track_uri': 'spotify:track:0WqIKmW4BTrj3eJFmnCKMv', 'artist_uri': 'spotify:artist:6vWDO969PvNqNYHIOW5v0m', 'track_name': 'Crazy In Love', 'album_uri': 'spotify:album:25hVFAxTlDvXbx2X2QkUkE', 'duration_ms': 235933, 'album_name': 'Dangerously In Love (Alben für die Ewigkeit)'}, {'pos': 3, 'artist_name': 'Justin Timberlake', 'track_uri': 'spotify:track:1AWQoqb9bSvzTjaLralEkT', 'artist_uri': 'spotify:artist:31TPClRtHm23RisEBtV3X7', 'track_name': 'Rock Your Body', 'album_uri': 'spotify:album:6QPkyl04rXwTGlGlcYaRoW', 'duration_ms': 267266, 'album_name': 'Justified'}, {'pos': 4, 'artist_name': 'Shaggy', 'track_uri': 'spotify:track:1lzr43nnXAijIGYnCT8M8H', 'artist_uri': 'spotify:artist:5EvFsr3kj42KNv97ZEnqij', 'track_name': \"It Wasn't Me\", 'album_uri': 'spotify:album:6NmFmPX56pcLBOFMhIiKvF', 'duration_ms': 227600, 'album_name': 'Hot Shot'}, {'pos': 5, 'artist_name': 'Usher', 'track_uri': 'spotify:track:0XUfyU2QviPAs6bxSpXYG4', 'artist_uri': 'spotify:artist:23zg3TcAtWQy7J6upgbUnj', 'track_name': 'Yeah!', 'album_uri': 'spotify:album:0vO0b1AvY49CPQyVisJLj0', 'duration_ms': 250373, 'album_name': 'Confessions'}, {'pos': 6, 'artist_name': 'Usher', 'track_uri': 'spotify:track:68vgtRHr7iZHpzGpon6Jlo', 'artist_uri': 'spotify:artist:23zg3TcAtWQy7J6upgbUnj', 'track_name': 'My Boo', 'album_uri': 'spotify:album:1RM6MGv6bcl6NrAG8PGoZk', 'duration_ms': 223440, 'album_name': 'Confessions'}, {'pos': 7, 'artist_name': 'The Pussycat Dolls', 'track_uri': 'spotify:track:3BxWKCI06eQ5Od8TY2JBeA', 'artist_uri': 'spotify:artist:6wPhSqRtPu1UhRCDX5yaDJ', 'track_name': 'Buttons', 'album_uri': 'spotify:album:5x8e8UcCeOgrOzSnDGuPye', 'duration_ms': 225560, 'album_name': 'PCD'}, {'pos': 8, 'artist_name': \"Destiny's Child\", 'track_uri': 'spotify:track:7H6ev70Weq6DdpZyyTmUXk', 'artist_uri': 'spotify:artist:1Y8cdNmUJH7yBTd9yOvr5i', 'track_name': 'Say My Name', 'album_uri': 'spotify:album:283NWqNsCA9GwVHrJk59CG', 'duration_ms': 271333, 'album_name': \"The Writing's On The Wall\"}, {'pos': 9, 'artist_name': 'OutKast', 'track_uri': 'spotify:track:2PpruBYCo4H7WOBJ7Q2EwM', 'artist_uri': 'spotify:artist:1G9G7WwrXka3Z1r7aIDjI7', 'track_name': 'Hey Ya! - Radio Mix / Club Mix', 'album_uri': 'spotify:album:1UsmQ3bpJTyK6ygoOOjG1r', 'duration_ms': 235213, 'album_name': 'Speakerboxxx/The Love Below'}, {'pos': 10, 'artist_name': 'Nelly Furtado', 'track_uri': 'spotify:track:2gam98EZKrF9XuOkU13ApN', 'artist_uri': 'spotify:artist:2jw70GZXlAI8QzWeY2bgRc', 'track_name': 'Promiscuous', 'album_uri': 'spotify:album:2yboV2QBcVGEhcRlYuPpDT', 'duration_ms': 242293, 'album_name': 'Loose'}, {'pos': 11, 'artist_name': 'Jesse McCartney', 'track_uri': 'spotify:track:4Y45aqo9QMa57rDsAJv40A', 'artist_uri': 'spotify:artist:2Hjj68yyUPiC0HKEOigcEp', 'track_name': 'Right Where You Want Me - Radio Edit Version', 'album_uri': 'spotify:album:6022khQj4Fsvvse8f3A4lF', 'duration_ms': 211693, 'album_name': 'Right Where You Want Me'}, {'pos': 12, 'artist_name': 'Jesse McCartney', 'track_uri': 'spotify:track:1HwpWwa6bnqqRhK8agG4RS', 'artist_uri': 'spotify:artist:2Hjj68yyUPiC0HKEOigcEp', 'track_name': 'Beautiful Soul', 'album_uri': 'spotify:album:2gidE8vgVOkYufANjuvj3S', 'duration_ms': 214226, 'album_name': 'Beautiful Soul'}, {'pos': 13, 'artist_name': 'Jesse McCartney', 'track_uri': 'spotify:track:20ORwCJusz4KS2PbTPVNKo', 'artist_uri': 'spotify:artist:2Hjj68yyUPiC0HKEOigcEp', 'track_name': \"Leavin'\", 'album_uri': 'spotify:album:2tDCfKFy2YW9N0IwNSRdOJ', 'duration_ms': 216880, 'album_name': 'Departure - Recharged'}, {'pos': 14, 'artist_name': 'Cassie', 'track_uri': 'spotify:track:7k6IzwMGpxnRghE7YosnXT', 'artist_uri': 'spotify:artist:27FGXRNruFoOdf1vP8dqcH', 'track_name': 'Me & U', 'album_uri': 'spotify:album:0j1qzjaJmsF1FkcICf3hRu', 'duration_ms': 192213, 'album_name': 'Cassie'}, {'pos': 15, 'artist_name': 'Omarion', 'track_uri': 'spotify:track:1Bv0Yl01xBDZD4OQP93fyl', 'artist_uri': 'spotify:artist:0f5nVCcR06GX8Qikz0COtT', 'track_name': 'Ice Box', 'album_uri': 'spotify:album:4cVVEOXyUaWo7vlDWIkKsI', 'duration_ms': 256426, 'album_name': '21'}, {'pos': 16, 'artist_name': 'Avril Lavigne', 'track_uri': 'spotify:track:4omisSlTk6Dsq2iQD7MA07', 'artist_uri': 'spotify:artist:0p4nmQO2msCgU4IF37Wi3j', 'track_name': 'Sk8er Boi', 'album_uri': 'spotify:album:7h6XeTzy0SRXDrFJeA9gO7', 'duration_ms': 204000, 'album_name': 'Let Go'}, {'pos': 17, 'artist_name': 'Chris Brown', 'track_uri': 'spotify:track:7xYnUQigPoIDAMPVK79NEq', 'artist_uri': 'spotify:artist:7bXgB6jMjp9ATFy66eO08Z', 'track_name': 'Run It!', 'album_uri': 'spotify:album:49gaz5rhWWgqCw61M9700v', 'duration_ms': 229866, 'album_name': 'Chris Brown'}, {'pos': 18, 'artist_name': 'Beyoncé', 'track_uri': 'spotify:track:6d8A5sAx9TfdeseDvfWNHd', 'artist_uri': 'spotify:artist:6vWDO969PvNqNYHIOW5v0m', 'track_name': 'Check On It - feat. Bun B and Slim Thug', 'album_uri': 'spotify:album:3MJHoQUI828kmB6IpjejbW', 'duration_ms': 210453, 'album_name': \"B'Day\"}, {'pos': 19, 'artist_name': \"Destiny's Child\", 'track_uri': 'spotify:track:4pmc2AxSEq6g7hPVlJCPyP', 'artist_uri': 'spotify:artist:1Y8cdNmUJH7yBTd9yOvr5i', 'track_name': \"Jumpin', Jumpin'\", 'album_uri': 'spotify:album:283NWqNsCA9GwVHrJk59CG', 'duration_ms': 230200, 'album_name': \"The Writing's On The Wall\"}, {'pos': 20, 'artist_name': 'Sheryl Crow', 'track_uri': 'spotify:track:215JYyyUnrJ98NK3KEwu6d', 'artist_uri': 'spotify:artist:4TKTii6gnOnUXQHyuo9JaD', 'track_name': 'Soak Up The Sun', 'album_uri': 'spotify:album:5NYcTXrRZHxNyRKVOd0vs1', 'duration_ms': 292306, 'album_name': \"C'Mon C'Mon\"}, {'pos': 21, 'artist_name': 'The Black Eyed Peas', 'track_uri': 'spotify:track:0uqPG793dkDDN7sCUJJIVC', 'artist_uri': 'spotify:artist:1yxSLGMDHlW21z4YXirZDS', 'track_name': 'Where Is The Love?', 'album_uri': 'spotify:album:1bNyYpkDRovmErm4QeDrpJ', 'duration_ms': 272533, 'album_name': 'Elephunk'}, {'pos': 22, 'artist_name': 'Bowling For Soup', 'track_uri': 'spotify:track:19Js5ypV6JKn4DMExHQbGc', 'artist_uri': 'spotify:artist:5ND0mGcL9SKSjWIjPd0xIb', 'track_name': \"Stacy's Mom\", 'album_uri': 'spotify:album:3Q7xpHmP8k3HryE0LQdIk0', 'duration_ms': 193042, 'album_name': \"I've Never Done Anything Like This\"}, {'pos': 23, 'artist_name': 'The Click Five', 'track_uri': 'spotify:track:1JURww012QnWAw0zZXi6Aa', 'artist_uri': 'spotify:artist:01lz5VBfkMFDteSA9pKJuP', 'track_name': 'Just The Girl', 'album_uri': 'spotify:album:7gZilZGYr8M7UwEeYvdAKZ', 'duration_ms': 234146, 'album_name': 'Greetings From Imrie House'}, {'pos': 24, 'artist_name': 'Chris Brown', 'track_uri': 'spotify:track:7DFnq8FYhHMCylykf6ZCxA', 'artist_uri': 'spotify:artist:7bXgB6jMjp9ATFy66eO08Z', 'track_name': 'Yo (Excuse Me Miss)', 'album_uri': 'spotify:album:49gaz5rhWWgqCw61M9700v', 'duration_ms': 229040, 'album_name': 'Chris Brown'}, {'pos': 25, 'artist_name': 'Jonas Brothers', 'track_uri': 'spotify:track:1TfAhjzRBWzYZ8IdUV3igl', 'artist_uri': 'spotify:artist:7gOdHgIoIKoe4i9Tta6qdD', 'track_name': 'Year 3000', 'album_uri': 'spotify:album:20RAjvZ9LX2FDuDU8RDuIl', 'duration_ms': 201960, 'album_name': 'Jonas Brothers'}, {'pos': 26, 'artist_name': 'Lil Mama', 'track_uri': 'spotify:track:1Y4ZdPOOgCUhBcKZOrUFiS', 'artist_uri': 'spotify:artist:5qK5bOC6wLtuLhG5KvU17c', 'track_name': 'Lip Gloss', 'album_uri': 'spotify:album:3vgVsm9GY3i39fZ7b1sqV5', 'duration_ms': 219773, 'album_name': 'Lip Gloss'}, {'pos': 27, 'artist_name': 'Cascada', 'track_uri': 'spotify:track:6MjljecHzHelUDismyKkba', 'artist_uri': 'spotify:artist:0N0d3kjwdY2h7UVuTdJGfp', 'track_name': 'Everytime We Touch - Radio Edit', 'album_uri': 'spotify:album:5DvuKZTzEKjm0oUuhP237C', 'duration_ms': 199120, 'album_name': 'Everytime We Touch'}, {'pos': 28, 'artist_name': 'Jason Derulo', 'track_uri': 'spotify:track:67T6l4q3zVjC5nZZPXByU8', 'artist_uri': 'spotify:artist:07YZf4WDAMNwqr4jfgOZ8y', 'track_name': 'Whatcha Say', 'album_uri': 'spotify:album:0aVJmVAeEx78nAA1rAKYf7', 'duration_ms': 221253, 'album_name': 'Jason Derulo'}, {'pos': 29, 'artist_name': 'Ne-Yo', 'track_uri': 'spotify:track:34ceTg8ChN5HjrqiIYCn9Q', 'artist_uri': 'spotify:artist:21E3waRsmPlU7jZsS13rcj', 'track_name': 'Miss Independent', 'album_uri': 'spotify:album:6dTn9vJSxVTIGm4Cu5dH4x', 'duration_ms': 232000, 'album_name': 'Year Of The Gentleman'}, {'pos': 30, 'artist_name': 'Miley Cyrus', 'track_uri': 'spotify:track:5Q0Nhxo0l2bP3pNjpGJwV1', 'artist_uri': 'spotify:artist:5YGY8feqx7naU7z4HrwZM6', 'track_name': 'Party In The U.S.A.', 'album_uri': 'spotify:album:64aKkqxc3Ur2LYIKeS5osS', 'duration_ms': 202066, 'album_name': 'The Time Of Our Lives'}, {'pos': 31, 'artist_name': 'Boys Like Girls', 'track_uri': 'spotify:track:6GIrIt2M39wEGwjCQjGChX', 'artist_uri': 'spotify:artist:0vWCyXMrrvMlCcepuOJaGI', 'track_name': 'The Great Escape', 'album_uri': 'spotify:album:4WqgusSAgXkrjbXzqdBY68', 'duration_ms': 206520, 'album_name': 'Boys Like Girls'}, {'pos': 32, 'artist_name': 'Iyaz', 'track_uri': 'spotify:track:4E5P1XyAFtrjpiIxkydly4', 'artist_uri': 'spotify:artist:5tKXB9uuebKE34yowVaU3C', 'track_name': 'Replay', 'album_uri': 'spotify:album:44hyrGuZKAvITbmrlhryf8', 'duration_ms': 182306, 'album_name': 'Replay'}, {'pos': 33, 'artist_name': 'Chris Brown', 'track_uri': 'spotify:track:3H1LCvO3fVsK2HPguhbml0', 'artist_uri': 'spotify:artist:7bXgB6jMjp9ATFy66eO08Z', 'track_name': 'Forever', 'album_uri': 'spotify:album:1UtE4zAlSE2TlKmTFgrTg5', 'duration_ms': 277106, 'album_name': 'Exclusive - The Forever Edition'}, {'pos': 34, 'artist_name': 'Kesha', 'track_uri': 'spotify:track:3uoQULcUWfnt6nc6J7Vgai', 'artist_uri': 'spotify:artist:6LqNN22kT3074XbTVUrhzX', 'track_name': 'Your Love Is My Drug', 'album_uri': 'spotify:album:5peRwC6pQh8eaoIPtvmmOB', 'duration_ms': 187133, 'album_name': 'Animal'}, {'pos': 35, 'artist_name': 'Ne-Yo', 'track_uri': 'spotify:track:2nbClS09zsIAqNkshg6jnp', 'artist_uri': 'spotify:artist:21E3waRsmPlU7jZsS13rcj', 'track_name': 'Closer', 'album_uri': 'spotify:album:1nv3KEXZPmcwOXMoLTs1vn', 'duration_ms': 234360, 'album_name': 'Year Of The Gentleman'}, {'pos': 36, 'artist_name': 'Justin Bieber', 'track_uri': 'spotify:track:69ghzc538EQSVon2Gm3wrr', 'artist_uri': 'spotify:artist:1uNFoZAHBGtllmzznpCI3s', 'track_name': 'One Less Lonely Girl', 'album_uri': 'spotify:album:1rG5TDs3jYh6OU753I54CI', 'duration_ms': 229106, 'album_name': 'My World'}, {'pos': 37, 'artist_name': 'M.I.A.', 'track_uri': 'spotify:track:1kusepF3AacIEtUTYrw4GV', 'artist_uri': 'spotify:artist:0QJIPDAEDILuo8AIq3pMuU', 'track_name': 'Paper Planes', 'album_uri': 'spotify:album:1Lymt1abGCr3J06bbnmWca', 'duration_ms': 203760, 'album_name': 'Kala'}, {'pos': 38, 'artist_name': 'The Killers', 'track_uri': 'spotify:track:7oK9VyNzrYvRFo7nQEYkWN', 'artist_uri': 'spotify:artist:0C0XlULifJtAgn6ZNCW2eu', 'track_name': 'Mr. Brightside', 'album_uri': 'spotify:album:4undIeGmofnAYKhnDclN1w', 'duration_ms': 222586, 'album_name': 'Hot Fuss'}, {'pos': 39, 'artist_name': 'blink-182', 'track_uri': 'spotify:track:12qZHAeOyTf93YAWvGDTat', 'artist_uri': 'spotify:artist:6FBDaR13swtiWwGhX1WQsP', 'track_name': 'All The Small Things', 'album_uri': 'spotify:album:1fF8kYX49s5Ufv4XEY5sjW', 'duration_ms': 168000, 'album_name': 'Enema Of The State'}, {'pos': 40, 'artist_name': 'The Pussycat Dolls', 'track_uri': 'spotify:track:2jFlMILIQzs7lSFudG9lbo', 'artist_uri': 'spotify:artist:6wPhSqRtPu1UhRCDX5yaDJ', 'track_name': 'Beep', 'album_uri': 'spotify:album:0ylxpXE00fVxh6d60tevT8', 'duration_ms': 229360, 'album_name': 'PCD'}, {'pos': 41, 'artist_name': 'Justin Bieber', 'track_uri': 'spotify:track:4I2GqMe7L2ccMpUbnDzYLH', 'artist_uri': 'spotify:artist:1uNFoZAHBGtllmzznpCI3s', 'track_name': 'Somebody To Love', 'album_uri': 'spotify:album:6gdLfnf2vdNlMTyhJHaDLs', 'duration_ms': 220920, 'album_name': 'My Worlds'}, {'pos': 42, 'artist_name': 'The All-American Rejects', 'track_uri': 'spotify:track:5lDriBxJd22IhOH9zTcFrV', 'artist_uri': 'spotify:artist:3vAaWhdBR38Q02ohXqaNHT', 'track_name': 'Dirty Little Secret', 'album_uri': 'spotify:album:3PWEGZ6CYvXRnr0JCECsDe', 'duration_ms': 193653, 'album_name': 'Move Along'}, {'pos': 43, 'artist_name': 'Justin Bieber', 'track_uri': 'spotify:track:2eJ8ij1T3cNUKiGdcUvKhy', 'artist_uri': 'spotify:artist:1uNFoZAHBGtllmzznpCI3s', 'track_name': 'Baby', 'album_uri': 'spotify:album:6gdLfnf2vdNlMTyhJHaDLs', 'duration_ms': 213973, 'album_name': 'My Worlds'}, {'pos': 44, 'artist_name': 'Vanessa Carlton', 'track_uri': 'spotify:track:5y69gQtK33qxb8a24ACkCy', 'artist_uri': 'spotify:artist:5ILrArfIV0tMURcHJN8Q07', 'track_name': 'A Thousand Miles', 'album_uri': 'spotify:album:7D6BFTArx2ajtkKRVXIKO2', 'duration_ms': 237493, 'album_name': 'Be Not Nobody'}, {'pos': 45, 'artist_name': 'Cris Cab', 'track_uri': 'spotify:track:1X5WGCrUMuwRFuYU1eAo2I', 'artist_uri': 'spotify:artist:7vWBZm3sQ8yQvfV4nXxHXK', 'track_name': 'Livin on Sunday', 'album_uri': 'spotify:album:2kNznk4KDkYXifzOAUDoXN', 'duration_ms': 201230, 'album_name': 'Red Road'}, {'pos': 46, 'artist_name': 'Miley Cyrus', 'track_uri': 'spotify:track:3utIAb67sOu0QHxBE88P1M', 'artist_uri': 'spotify:artist:5YGY8feqx7naU7z4HrwZM6', 'track_name': 'See You Again', 'album_uri': 'spotify:album:6SkirMQoL4QhnXOM5MH5El', 'duration_ms': 190453, 'album_name': 'See You Again'}, {'pos': 47, 'artist_name': 'Jesse McCartney', 'track_uri': 'spotify:track:3jkdQNkDTxxXtjSO4l0o1H', 'artist_uri': 'spotify:artist:2Hjj68yyUPiC0HKEOigcEp', 'track_name': 'How Do You Sleep? - Featuring Ludacris', 'album_uri': 'spotify:album:2tDCfKFy2YW9N0IwNSRdOJ', 'duration_ms': 208333, 'album_name': 'Departure - Recharged'}, {'pos': 48, 'artist_name': 'Demi Lovato', 'track_uri': 'spotify:track:5c1sfI6wIQEsSUw0xrkFdl', 'artist_uri': 'spotify:artist:6S2OmqARrzebs0tKUEyXyp', 'track_name': 'This Is Me', 'album_uri': 'spotify:album:6vykWEBzBfEKYJxEFR1AQl', 'duration_ms': 189186, 'album_name': 'Camp Rock Original Soundtrack'}, {'pos': 49, 'artist_name': 'Avril Lavigne', 'track_uri': 'spotify:track:6sqNctd7MlJoKDOxPVCAvU', 'artist_uri': 'spotify:artist:0p4nmQO2msCgU4IF37Wi3j', 'track_name': 'My Happy Ending', 'album_uri': 'spotify:album:7851Vsjv3apS52sXUik6iF', 'duration_ms': 242413, 'album_name': 'Under My Skin'}, {'pos': 50, 'artist_name': 'We The Kings', 'track_uri': 'spotify:track:1b7vg5T9YKR3NNqXfBYRF7', 'artist_uri': 'spotify:artist:3ao3jf5d70Tf4fPh2bnXVl', 'track_name': 'Check Yes Juliet', 'album_uri': 'spotify:album:2F1hfUOuMnOxtSfrktL8VX', 'duration_ms': 220133, 'album_name': 'We The Kings'}, {'pos': 51, 'artist_name': 'Boys Like Girls', 'track_uri': 'spotify:track:6GIrIt2M39wEGwjCQjGChX', 'artist_uri': 'spotify:artist:0vWCyXMrrvMlCcepuOJaGI', 'track_name': 'The Great Escape', 'album_uri': 'spotify:album:4WqgusSAgXkrjbXzqdBY68', 'duration_ms': 206520, 'album_name': 'Boys Like Girls'}], 'num_edits': 6, 'duration_ms': 11532414, 'num_artists': 37}\n"
     ]
    }
   ],
   "source": [
    "playlists = data['playlists']\n",
    "print(\"Example Playlist:\", playlists[0])\n"
   ]
  },
  {
   "cell_type": "code",
   "execution_count": 13,
   "metadata": {},
   "outputs": [
    {
     "name": "stdout",
     "output_type": "stream",
     "text": [
      "User Info: {'display_name': 'luz de guada', 'external_urls': {'spotify': 'https://open.spotify.com/user/n5a1379mjwe7pn4d3f3i94qq6'}, 'followers': {'href': None, 'total': 5}, 'href': 'https://api.spotify.com/v1/users/n5a1379mjwe7pn4d3f3i94qq6', 'id': 'n5a1379mjwe7pn4d3f3i94qq6', 'images': [{'height': 300, 'url': 'https://i.scdn.co/image/ab6775700000ee85052dfe0f495ddbb421128ab9', 'width': 300}, {'height': 64, 'url': 'https://i.scdn.co/image/ab67757000003b82052dfe0f495ddbb421128ab9', 'width': 64}], 'type': 'user', 'uri': 'spotify:user:n5a1379mjwe7pn4d3f3i94qq6'}\n"
     ]
    }
   ],
   "source": [
    "import spotipy\n",
    "from spotipy.oauth2 import SpotifyOAuth\n",
    "import pandas as pd\n",
    "\n",
    "sp = spotipy.Spotify(auth_manager=SpotifyOAuth(\n",
    "    client_id=\"94a5ca48b8a84ff0affae9b9c83e6cf7\",\n",
    "    client_secret=\"f2c4137464054a84bc2c3282bc2fa168\",\n",
    "    redirect_uri='http://localhost:8888/callback',\n",
    "    cache_path=\".spotifycache\",  # Ensure this file is cleared\n",
    "    show_dialog=True\n",
    "\n",
    "))\n",
    "\n",
    "user_info = sp.me()\n",
    "print(\"User Info:\", user_info)\n"
   ]
  },
  {
   "cell_type": "code",
   "execution_count": 6,
   "metadata": {},
   "outputs": [
    {
     "name": "stdout",
     "output_type": "stream",
     "text": [
      "Cache cleared. You will need to log in again.\n"
     ]
    }
   ],
   "source": [
    "import os\n",
    "\n",
    "# Path to the cache file (default location)\n",
    "cache_path = \".spotifycache\"\n",
    "\n",
    "# Delete the cache file if it exists\n",
    "if os.path.exists(cache_path):\n",
    "    os.remove(cache_path)\n",
    "    print(\"Cache cleared. You will need to log in again.\")\n",
    "else:\n",
    "    print(\"No cache file found.\")\n"
   ]
  },
  {
   "cell_type": "code",
   "execution_count": 17,
   "metadata": {},
   "outputs": [
    {
     "name": "stdout",
     "output_type": "stream",
     "text": [
      "Access token: BQCpX_GxOk0g8TEElyQ4KUKhgQ57My6qr4bdArtMuXcS1Wj7XndTW9Cu47VlWQYohwjH8bTEpQgEtX41zhlK2LMftPPOSKfBVRVz5WXX67sBWEsW3WxL9T_nhs96ap8cc60HsPV5y-HrPH0EM5t-aLeTAQm6iPeyxK_KQA6KiMmZ91J2mLXcEOgpy9Qh_wvi7OziHy3b8KvLXJHMhKGBkzR1LFEQiK7kNOvAQ1zVcKHcRg\n"
     ]
    }
   ],
   "source": [
    "auth_manager = SpotifyOAuth(\n",
    "    client_id=\"94a5ca48b8a84ff0affae9b9c83e6cf7\",\n",
    "    client_secret=\"f2c4137464054a84bc2c3282bc2fa168\",\n",
    "    redirect_uri='http://localhost:8888/callback',\n",
    "    cache_path=\".spotifycache\",\n",
    "    show_dialog=True\n",
    ")\n",
    "\n",
    "token_info = auth_manager.get_cached_token()\n",
    "if token_info:\n",
    "    print(\"Access token:\", token_info['access_token'])\n",
    "else:\n",
    "    print(\"Failed to retrieve token.\")\n"
   ]
  },
  {
   "cell_type": "code",
   "execution_count": 35,
   "metadata": {},
   "outputs": [
    {
     "name": "stdout",
     "output_type": "stream",
     "text": [
      "Error: 403 {\n",
      "  \"error\" : {\n",
      "    \"status\" : 403\n",
      "  }\n",
      "}\n"
     ]
    }
   ],
   "source": [
    "import requests\n",
    "\n",
    "BASE_URL = \"https://api.spotify.com/v1/audio-features\"\n",
    "track_ids = \"4uLU6hMCjMI75M1A2tKUQC,1301WleyT98MSxVHPZCA6M\"\n",
    "access_token = \"BQCqOaLn4JQmRrJdgFEvgQJPHlJiNDSWJxjI4K7QJQbztYZzolI4aK1l2P6kVQok4mtxR46LiJ8G9KCrB8aIed4G29R0iLhREj42sztFpQy3aT_JF-4WE6K0_mg-49ta46U2tliLOjWwX4NVhOm8CPiHQKv1rUpIHD0hsXLKemC00P_cg_xt3ksgX3hKuFjXZs_KbXbEtQudwA\"\n",
    "\n",
    "headers = {\n",
    "    \"Authorization\": f\"Bearer {access_token}\"\n",
    "}\n",
    "\n",
    "response = requests.get(f\"{BASE_URL}?ids={track_ids}\", headers=headers)\n",
    "\n",
    "if response.status_code == 200:\n",
    "    print(\"Data:\", response.json())\n",
    "else:\n",
    "    print(\"Error:\", response.status_code, response.text)\n"
   ]
  },
  {
   "cell_type": "code",
   "execution_count": 19,
   "metadata": {},
   "outputs": [
    {
     "name": "stderr",
     "output_type": "stream",
     "text": [
      "HTTP Error for GET to https://api.spotify.com/v1/audio-features/?ids=4uLU6hMCjMI75M1A2tKUQC,1301WleyT98MSxVHPZCA6M with Params: {} returned 403 due to None\n"
     ]
    },
    {
     "name": "stdout",
     "output_type": "stream",
     "text": [
      "Spotify API error: http status: 403, code:-1 - https://api.spotify.com/v1/audio-features/?ids=4uLU6hMCjMI75M1A2tKUQC,1301WleyT98MSxVHPZCA6M:\n",
      " None, reason: None\n",
      "Failed to fetch audio features.\n"
     ]
    }
   ],
   "source": [
    "import spotipy\n",
    "from spotipy.oauth2 import SpotifyOAuth\n",
    "import pandas as pd\n",
    "import time\n",
    "\n",
    "# Set up Spotify API credentials\n",
    "sp = spotipy.Spotify(auth_manager=SpotifyOAuth(\n",
    "    client_id=\"94a5ca48b8a84ff0affae9b9c83e6cf7\",\n",
    "    client_secret=\"f2c4137464054a84bc2c3282bc2fa168\",\n",
    "    redirect_uri='http://localhost:8888/callback',\n",
    "    cache_path=\".spotifycache\",  # Ensure this file is cleared\n",
    "    scope=\"user-library-read playlist-read-private\",  # Optional, adjust as needed\n",
    "    show_dialog=True\n",
    "))\n",
    "\n",
    "# Function to fetch audio features\n",
    "def get_audio_features(track_uris):\n",
    "    features_list = []\n",
    "    try:\n",
    "        for i in range(0, len(track_uris), 50):  # Spotify API allows max 50 tracks per call\n",
    "            audio_features = sp.audio_features(track_uris[i:i + 50])\n",
    "            if audio_features is None:\n",
    "                print(\"No features returned for batch:\", track_uris[i:i + 50])\n",
    "                continue\n",
    "            features_list.extend(audio_features)\n",
    "            time.sleep(1)  # Avoid rate-limiting\n",
    "    except spotipy.exceptions.SpotifyException as e:\n",
    "        print(f\"Spotify API error: {e}\")\n",
    "        return pd.DataFrame()  # Return an empty DataFrame in case of failure\n",
    "    return pd.DataFrame(features_list)\n",
    "\n",
    "# Example Usage\n",
    "track_uris = [\n",
    "    \"4uLU6hMCjMI75M1A2tKUQC\", \n",
    "    \"1301WleyT98MSxVHPZCA6M\"\n",
    "]\n",
    "\n",
    "# Fetch audio features\n",
    "audio_features_df = get_audio_features(track_uris)\n",
    "\n",
    "# Clean and display results\n",
    "if not audio_features_df.empty:\n",
    "    audio_features_df.dropna(subset=['id'], inplace=True)  # Remove tracks with missing features\n",
    "    print(audio_features_df.head())\n",
    "else:\n",
    "    print(\"Failed to fetch audio features.\")\n"
   ]
  },
  {
   "cell_type": "code",
   "execution_count": 13,
   "metadata": {
    "colab": {
     "base_uri": "https://localhost:8080/",
     "height": 309
    },
    "id": "PY2Z-wChekxq",
    "outputId": "c2336db9-3150-4fe0-d14b-ee0d4f999506"
   },
   "outputs": [
    {
     "name": "stderr",
     "output_type": "stream",
     "text": [
      "HTTP Error for GET to https://api.spotify.com/v1/audio-features/?ids=4uLU6hMCjMI75M1A2tKUQC,1301WleyT98MSxVHPZCA6M with Params: {} returned 403 due to None\n"
     ]
    },
    {
     "ename": "SpotifyException",
     "evalue": "http status: 403, code:-1 - https://api.spotify.com/v1/audio-features/?ids=4uLU6hMCjMI75M1A2tKUQC,1301WleyT98MSxVHPZCA6M:\n None, reason: None",
     "output_type": "error",
     "traceback": [
      "\u001b[1;31m---------------------------------------------------------------------------\u001b[0m",
      "\u001b[1;31mHTTPError\u001b[0m                                 Traceback (most recent call last)",
      "File \u001b[1;32mc:\\Users\\Asus\\AppData\\Local\\Programs\\Python\\Python313\\Lib\\site-packages\\spotipy\\client.py:275\u001b[0m, in \u001b[0;36mSpotify._internal_call\u001b[1;34m(self, method, url, payload, params)\u001b[0m\n\u001b[0;32m    270\u001b[0m response \u001b[38;5;241m=\u001b[39m \u001b[38;5;28mself\u001b[39m\u001b[38;5;241m.\u001b[39m_session\u001b[38;5;241m.\u001b[39mrequest(\n\u001b[0;32m    271\u001b[0m     method, url, headers\u001b[38;5;241m=\u001b[39mheaders, proxies\u001b[38;5;241m=\u001b[39m\u001b[38;5;28mself\u001b[39m\u001b[38;5;241m.\u001b[39mproxies,\n\u001b[0;32m    272\u001b[0m     timeout\u001b[38;5;241m=\u001b[39m\u001b[38;5;28mself\u001b[39m\u001b[38;5;241m.\u001b[39mrequests_timeout, \u001b[38;5;241m*\u001b[39m\u001b[38;5;241m*\u001b[39margs\n\u001b[0;32m    273\u001b[0m )\n\u001b[1;32m--> 275\u001b[0m \u001b[43mresponse\u001b[49m\u001b[38;5;241;43m.\u001b[39;49m\u001b[43mraise_for_status\u001b[49m\u001b[43m(\u001b[49m\u001b[43m)\u001b[49m\n\u001b[0;32m    276\u001b[0m results \u001b[38;5;241m=\u001b[39m response\u001b[38;5;241m.\u001b[39mjson()\n",
      "File \u001b[1;32mc:\\Users\\Asus\\AppData\\Local\\Programs\\Python\\Python313\\Lib\\site-packages\\requests\\models.py:1024\u001b[0m, in \u001b[0;36mResponse.raise_for_status\u001b[1;34m(self)\u001b[0m\n\u001b[0;32m   1023\u001b[0m \u001b[38;5;28;01mif\u001b[39;00m http_error_msg:\n\u001b[1;32m-> 1024\u001b[0m     \u001b[38;5;28;01mraise\u001b[39;00m HTTPError(http_error_msg, response\u001b[38;5;241m=\u001b[39m\u001b[38;5;28mself\u001b[39m)\n",
      "\u001b[1;31mHTTPError\u001b[0m: 403 Client Error: Forbidden for url: https://api.spotify.com/v1/audio-features/?ids=4uLU6hMCjMI75M1A2tKUQC,1301WleyT98MSxVHPZCA6M",
      "\nDuring handling of the above exception, another exception occurred:\n",
      "\u001b[1;31mSpotifyException\u001b[0m                          Traceback (most recent call last)",
      "Cell \u001b[1;32mIn[13], line 9\u001b[0m\n\u001b[0;32m      6\u001b[0m         features_list\u001b[38;5;241m.\u001b[39mextend(audio_features)\n\u001b[0;32m      7\u001b[0m     \u001b[38;5;28;01mreturn\u001b[39;00m pd\u001b[38;5;241m.\u001b[39mDataFrame(features_list)\n\u001b[1;32m----> 9\u001b[0m audio_features_df \u001b[38;5;241m=\u001b[39m \u001b[43mget_audio_features\u001b[49m\u001b[43m(\u001b[49m\u001b[43mtrack_uris\u001b[49m\u001b[43m)\u001b[49m\n\u001b[0;32m     10\u001b[0m audio_features_df\u001b[38;5;241m.\u001b[39mdropna(subset\u001b[38;5;241m=\u001b[39m[\u001b[38;5;124m'\u001b[39m\u001b[38;5;124mid\u001b[39m\u001b[38;5;124m'\u001b[39m], inplace\u001b[38;5;241m=\u001b[39m\u001b[38;5;28;01mTrue\u001b[39;00m)  \u001b[38;5;66;03m# Remove tracks with missing features\u001b[39;00m\n\u001b[0;32m     11\u001b[0m audio_features_df\u001b[38;5;241m.\u001b[39mhead()\n",
      "Cell \u001b[1;32mIn[13], line 5\u001b[0m, in \u001b[0;36mget_audio_features\u001b[1;34m(track_uris)\u001b[0m\n\u001b[0;32m      3\u001b[0m features_list \u001b[38;5;241m=\u001b[39m []\n\u001b[0;32m      4\u001b[0m \u001b[38;5;28;01mfor\u001b[39;00m i \u001b[38;5;129;01min\u001b[39;00m \u001b[38;5;28mrange\u001b[39m(\u001b[38;5;241m0\u001b[39m, \u001b[38;5;28mlen\u001b[39m(track_uris), \u001b[38;5;241m50\u001b[39m):  \u001b[38;5;66;03m# Spotify API allows max 50 tracks per call\u001b[39;00m\n\u001b[1;32m----> 5\u001b[0m     audio_features \u001b[38;5;241m=\u001b[39m \u001b[43msp\u001b[49m\u001b[38;5;241;43m.\u001b[39;49m\u001b[43maudio_features\u001b[49m\u001b[43m(\u001b[49m\u001b[43mtrack_uris\u001b[49m\u001b[43m[\u001b[49m\u001b[43mi\u001b[49m\u001b[43m:\u001b[49m\u001b[43mi\u001b[49m\u001b[43m \u001b[49m\u001b[38;5;241;43m+\u001b[39;49m\u001b[43m \u001b[49m\u001b[38;5;241;43m50\u001b[39;49m\u001b[43m]\u001b[49m\u001b[43m)\u001b[49m\n\u001b[0;32m      6\u001b[0m     features_list\u001b[38;5;241m.\u001b[39mextend(audio_features)\n\u001b[0;32m      7\u001b[0m \u001b[38;5;28;01mreturn\u001b[39;00m pd\u001b[38;5;241m.\u001b[39mDataFrame(features_list)\n",
      "File \u001b[1;32mc:\\Users\\Asus\\AppData\\Local\\Programs\\Python\\Python313\\Lib\\site-packages\\spotipy\\client.py:1753\u001b[0m, in \u001b[0;36mSpotify.audio_features\u001b[1;34m(self, tracks)\u001b[0m\n\u001b[0;32m   1751\u001b[0m \u001b[38;5;28;01melse\u001b[39;00m:\n\u001b[0;32m   1752\u001b[0m     tlist \u001b[38;5;241m=\u001b[39m [\u001b[38;5;28mself\u001b[39m\u001b[38;5;241m.\u001b[39m_get_id(\u001b[38;5;124m\"\u001b[39m\u001b[38;5;124mtrack\u001b[39m\u001b[38;5;124m\"\u001b[39m, t) \u001b[38;5;28;01mfor\u001b[39;00m t \u001b[38;5;129;01min\u001b[39;00m tracks]\n\u001b[1;32m-> 1753\u001b[0m     results \u001b[38;5;241m=\u001b[39m \u001b[38;5;28;43mself\u001b[39;49m\u001b[38;5;241;43m.\u001b[39;49m\u001b[43m_get\u001b[49m\u001b[43m(\u001b[49m\u001b[38;5;124;43m\"\u001b[39;49m\u001b[38;5;124;43maudio-features/?ids=\u001b[39;49m\u001b[38;5;124;43m\"\u001b[39;49m\u001b[43m \u001b[49m\u001b[38;5;241;43m+\u001b[39;49m\u001b[43m \u001b[49m\u001b[38;5;124;43m\"\u001b[39;49m\u001b[38;5;124;43m,\u001b[39;49m\u001b[38;5;124;43m\"\u001b[39;49m\u001b[38;5;241;43m.\u001b[39;49m\u001b[43mjoin\u001b[49m\u001b[43m(\u001b[49m\u001b[43mtlist\u001b[49m\u001b[43m)\u001b[49m\u001b[43m)\u001b[49m\n\u001b[0;32m   1754\u001b[0m \u001b[38;5;66;03m# the response has changed, look for the new style first, and if\u001b[39;00m\n\u001b[0;32m   1755\u001b[0m \u001b[38;5;66;03m# it's not there, fallback on the old style\u001b[39;00m\n\u001b[0;32m   1756\u001b[0m \u001b[38;5;28;01mif\u001b[39;00m \u001b[38;5;124m\"\u001b[39m\u001b[38;5;124maudio_features\u001b[39m\u001b[38;5;124m\"\u001b[39m \u001b[38;5;129;01min\u001b[39;00m results:\n",
      "File \u001b[1;32mc:\\Users\\Asus\\AppData\\Local\\Programs\\Python\\Python313\\Lib\\site-packages\\spotipy\\client.py:327\u001b[0m, in \u001b[0;36mSpotify._get\u001b[1;34m(self, url, args, payload, **kwargs)\u001b[0m\n\u001b[0;32m    324\u001b[0m \u001b[38;5;28;01mif\u001b[39;00m args:\n\u001b[0;32m    325\u001b[0m     kwargs\u001b[38;5;241m.\u001b[39mupdate(args)\n\u001b[1;32m--> 327\u001b[0m \u001b[38;5;28;01mreturn\u001b[39;00m \u001b[38;5;28;43mself\u001b[39;49m\u001b[38;5;241;43m.\u001b[39;49m\u001b[43m_internal_call\u001b[49m\u001b[43m(\u001b[49m\u001b[38;5;124;43m\"\u001b[39;49m\u001b[38;5;124;43mGET\u001b[39;49m\u001b[38;5;124;43m\"\u001b[39;49m\u001b[43m,\u001b[49m\u001b[43m \u001b[49m\u001b[43murl\u001b[49m\u001b[43m,\u001b[49m\u001b[43m \u001b[49m\u001b[43mpayload\u001b[49m\u001b[43m,\u001b[49m\u001b[43m \u001b[49m\u001b[43mkwargs\u001b[49m\u001b[43m)\u001b[49m\n",
      "File \u001b[1;32mc:\\Users\\Asus\\AppData\\Local\\Programs\\Python\\Python313\\Lib\\site-packages\\spotipy\\client.py:297\u001b[0m, in \u001b[0;36mSpotify._internal_call\u001b[1;34m(self, method, url, payload, params)\u001b[0m\n\u001b[0;32m    290\u001b[0m         reason \u001b[38;5;241m=\u001b[39m \u001b[38;5;28;01mNone\u001b[39;00m\n\u001b[0;32m    292\u001b[0m     logger\u001b[38;5;241m.\u001b[39merror(\n\u001b[0;32m    293\u001b[0m         \u001b[38;5;124m'\u001b[39m\u001b[38;5;124mHTTP Error for \u001b[39m\u001b[38;5;132;01m%s\u001b[39;00m\u001b[38;5;124m to \u001b[39m\u001b[38;5;132;01m%s\u001b[39;00m\u001b[38;5;124m with Params: \u001b[39m\u001b[38;5;132;01m%s\u001b[39;00m\u001b[38;5;124m returned \u001b[39m\u001b[38;5;132;01m%s\u001b[39;00m\u001b[38;5;124m due to \u001b[39m\u001b[38;5;132;01m%s\u001b[39;00m\u001b[38;5;124m'\u001b[39m,\n\u001b[0;32m    294\u001b[0m         method, url, args\u001b[38;5;241m.\u001b[39mget(\u001b[38;5;124m\"\u001b[39m\u001b[38;5;124mparams\u001b[39m\u001b[38;5;124m\"\u001b[39m), response\u001b[38;5;241m.\u001b[39mstatus_code, msg\n\u001b[0;32m    295\u001b[0m     )\n\u001b[1;32m--> 297\u001b[0m     \u001b[38;5;28;01mraise\u001b[39;00m SpotifyException(\n\u001b[0;32m    298\u001b[0m         response\u001b[38;5;241m.\u001b[39mstatus_code,\n\u001b[0;32m    299\u001b[0m         \u001b[38;5;241m-\u001b[39m\u001b[38;5;241m1\u001b[39m,\n\u001b[0;32m    300\u001b[0m         \u001b[38;5;124mf\u001b[39m\u001b[38;5;124m\"\u001b[39m\u001b[38;5;132;01m{\u001b[39;00mresponse\u001b[38;5;241m.\u001b[39murl\u001b[38;5;132;01m}\u001b[39;00m\u001b[38;5;124m:\u001b[39m\u001b[38;5;130;01m\\n\u001b[39;00m\u001b[38;5;124m \u001b[39m\u001b[38;5;132;01m{\u001b[39;00mmsg\u001b[38;5;132;01m}\u001b[39;00m\u001b[38;5;124m\"\u001b[39m,\n\u001b[0;32m    301\u001b[0m         reason\u001b[38;5;241m=\u001b[39mreason,\n\u001b[0;32m    302\u001b[0m         headers\u001b[38;5;241m=\u001b[39mresponse\u001b[38;5;241m.\u001b[39mheaders,\n\u001b[0;32m    303\u001b[0m     )\n\u001b[0;32m    304\u001b[0m \u001b[38;5;28;01mexcept\u001b[39;00m requests\u001b[38;5;241m.\u001b[39mexceptions\u001b[38;5;241m.\u001b[39mRetryError \u001b[38;5;28;01mas\u001b[39;00m retry_error:\n\u001b[0;32m    305\u001b[0m     request \u001b[38;5;241m=\u001b[39m retry_error\u001b[38;5;241m.\u001b[39mrequest\n",
      "\u001b[1;31mSpotifyException\u001b[0m: http status: 403, code:-1 - https://api.spotify.com/v1/audio-features/?ids=4uLU6hMCjMI75M1A2tKUQC,1301WleyT98MSxVHPZCA6M:\n None, reason: None"
     ]
    }
   ],
   "source": [
    "#fetch audio features using spotify api\n",
    "def get_audio_features(track_uris):\n",
    "    features_list = []\n",
    "    for i in range(0, len(track_uris), 50):  # Spotify API allows max 50 tracks per call\n",
    "        audio_features = sp.audio_features(track_uris[i:i + 50])\n",
    "        features_list.extend(audio_features)\n",
    "    return pd.DataFrame(features_list)\n",
    "\n",
    "audio_features_df = get_audio_features(track_uris)\n",
    "audio_features_df.dropna(subset=['id'], inplace=True)  # Remove tracks with missing features\n",
    "audio_features_df.head()\n"
   ]
  },
  {
   "cell_type": "code",
   "execution_count": null,
   "metadata": {
    "id": "2eYKI1KhexCx"
   },
   "outputs": [],
   "source": [
    "selected_features = ['danceability', 'energy', 'tempo', 'loudness', 'acousticness',\n",
    "                     'instrumentalness', 'liveness', 'valence']\n",
    "feature_df = audio_features_df[selected_features]\n",
    "feature_df = feature_df.astype(float)\n"
   ]
  },
  {
   "cell_type": "code",
   "execution_count": null,
   "metadata": {
    "id": "3-8GbrlwexiD"
   },
   "outputs": [],
   "source": [
    "#normalize features an dcompute similarity\n",
    "scaler = MinMaxScaler()\n",
    "normalized_features = scaler.fit_transform(feature_df)\n"
   ]
  },
  {
   "cell_type": "code",
   "execution_count": null,
   "metadata": {
    "colab": {
     "base_uri": "https://localhost:8080/"
    },
    "id": "2P7-Yzmuexlp",
    "outputId": "9ffeda39-0465-4a8b-a2e1-f2bc31ba9947"
   },
   "outputs": [
    {
     "name": "stdout",
     "output_type": "stream",
     "text": [
      "Similarity Matrix Shape: (1000, 1000)\n"
     ]
    }
   ],
   "source": [
    "#compute cosine matrix similarity\n",
    "similarity_matrix = cosine_similarity(normalized_features)\n",
    "print(\"Similarity Matrix Shape:\", similarity_matrix.shape)\n"
   ]
  },
  {
   "cell_type": "code",
   "execution_count": null,
   "metadata": {
    "colab": {
     "base_uri": "https://localhost:8080/"
    },
    "id": "PyygqdIUe5WS",
    "outputId": "a23e2a20-bd93-48df-f57c-0c760c190ce8"
   },
   "outputs": [
    {
     "name": "stdout",
     "output_type": "stream",
     "text": [
      "Similarity Score between spotify:track:5Z2Ccva1c5ns7sTBmK7IeN and spotify:track:4OGL8HVf0HJRUo3pUtxjEd: 0.8575\n"
     ]
    }
   ],
   "source": [
    "# Create a dictionary to map track URIs to index in similarity matrix\n",
    "uri_to_index = {uri: idx for idx, uri in enumerate(audio_features_df['uri'])}\n",
    "\n",
    "def get_similarity_score(track_uri_1, track_uri_2):\n",
    "    if track_uri_1 in uri_to_index and track_uri_2 in uri_to_index:\n",
    "        idx1 = uri_to_index[track_uri_1]\n",
    "        idx2 = uri_to_index[track_uri_2]\n",
    "        return similarity_matrix[idx1, idx2]\n",
    "    else:\n",
    "        return None\n",
    "\n",
    "# Example: Compute similarity between two tracks\n",
    "track_1 = track_uris[0]\n",
    "track_2 = track_uris[1]\n",
    "score = get_similarity_score(track_1, track_2)\n",
    "print(f\"Similarity Score between {track_1} and {track_2}: {score:.4f}\")\n"
   ]
  },
  {
   "cell_type": "code",
   "execution_count": null,
   "metadata": {
    "colab": {
     "base_uri": "https://localhost:8080/"
    },
    "id": "PtBti2zDe5Y4",
    "outputId": "4a5cd0d9-4bd4-4203-d0fe-0b710302c02a"
   },
   "outputs": [
    {
     "name": "stdout",
     "output_type": "stream",
     "text": [
      "Track: Silhouettes by Colony House | Similarity: 0.9970\n",
      "Track: I'm On A Boat by The Lonely Island | Similarity: 0.9961\n",
      "Track: Oxygen by Dirty Heads | Similarity: 0.9960\n",
      "Track: As A Blonde by Selena Gomez & The Scene | Similarity: 0.9957\n",
      "Track: Kick The Dust Up by Luke Bryan | Similarity: 0.9950\n"
     ]
    }
   ],
   "source": [
    "#Example analysis find 5 most similar track\n",
    "def get_most_similar_tracks(track_uri, top_n=5):\n",
    "    if track_uri not in uri_to_index:\n",
    "        return []\n",
    "\n",
    "    idx = uri_to_index[track_uri]\n",
    "    similarity_scores = list(enumerate(similarity_matrix[idx]))\n",
    "    similarity_scores = sorted(similarity_scores, key=lambda x: x[1], reverse=True)\n",
    "\n",
    "    # Retrieve top N similar tracks (excluding itself)\n",
    "    similar_tracks = [(audio_features_df.iloc[i]['uri'], score) for i, score in similarity_scores[1:top_n + 1]]\n",
    "    return similar_tracks\n",
    "\n",
    "# Example: Get top 5 similar tracks\n",
    "most_similar_tracks = get_most_similar_tracks(track_1)\n",
    "for uri, score in most_similar_tracks:\n",
    "    track_info = sp.track(uri)\n",
    "    print(f\"Track: {track_info['name']} by {track_info['artists'][0]['name']} | Similarity: {score:.4f}\")\n"
   ]
  },
  {
   "cell_type": "markdown",
   "metadata": {
    "id": "pp2BGxb-xFej"
   },
   "source": [
    "PLAYLIST COINTINUATIONN CHALLENGE"
   ]
  },
  {
   "cell_type": "code",
   "execution_count": 1,
   "metadata": {},
   "outputs": [
    {
     "name": "stdout",
     "output_type": "stream",
     "text": [
      "Note: you may need to restart the kernel to use updated packages.\n"
     ]
    },
    {
     "name": "stderr",
     "output_type": "stream",
     "text": [
      "ERROR: Could not find a version that satisfies the requirement minim (from versions: none)\n",
      "ERROR: No matching distribution found for minim\n"
     ]
    }
   ],
   "source": [
    "pip install minim"
   ]
  }
 ],
 "metadata": {
  "colab": {
   "provenance": []
  },
  "kernelspec": {
   "display_name": ".venv",
   "language": "python",
   "name": "python3"
  },
  "language_info": {
   "codemirror_mode": {
    "name": "ipython",
    "version": 3
   },
   "file_extension": ".py",
   "mimetype": "text/x-python",
   "name": "python",
   "nbconvert_exporter": "python",
   "pygments_lexer": "ipython3",
   "version": "3.9.13"
  }
 },
 "nbformat": 4,
 "nbformat_minor": 0
}
